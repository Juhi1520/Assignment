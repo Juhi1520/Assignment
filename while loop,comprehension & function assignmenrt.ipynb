{
 "cells": [
  {
   "cell_type": "code",
   "execution_count": null,
   "id": "3d0b6bde-2e9e-405f-aaf5-41e6bf3f787d",
   "metadata": {},
   "outputs": [],
   "source": [
    "Q1. Which keyword is used to create a function? Create a function to return a list of odd numbers in the range of 1 to 25.\n",
    "Ans - def keyword is used to create a function."
   ]
  },
  {
   "cell_type": "code",
   "execution_count": 2,
   "id": "08f71f32-d228-4ead-9ec6-4f0f075d2eca",
   "metadata": {},
   "outputs": [
    {
     "data": {
      "text/plain": [
       "range(0, 25)"
      ]
     },
     "execution_count": 2,
     "metadata": {},
     "output_type": "execute_result"
    }
   ],
   "source": [
    "range(25)"
   ]
  },
  {
   "cell_type": "code",
   "execution_count": 7,
   "id": "2eb7fe6f-63a9-4b5a-bab9-489dac50e06d",
   "metadata": {},
   "outputs": [
    {
     "data": {
      "text/plain": [
       "[1, 3, 5, 7, 9, 11, 13, 15, 17, 19, 21, 23]"
      ]
     },
     "execution_count": 7,
     "metadata": {},
     "output_type": "execute_result"
    }
   ],
   "source": [
    "list(range(1,25,+2))"
   ]
  },
  {
   "cell_type": "code",
   "execution_count": null,
   "id": "29c1a8a9-88ec-4d2a-8370-b9b0f038b290",
   "metadata": {},
   "outputs": [],
   "source": [
    "Q2. Why*arg and **kwargs is used in some function? Create a function each for*args and**kwargs to demonstrate their use.\n",
    "Ans - *arg stands for arguments that are passed to the function whearas **kwargs stands for keyword arguments which are passed along with the values into the function."
   ]
  },
  {
   "cell_type": "code",
   "execution_count": 1,
   "id": "c97d9138-a00d-4a5c-b813-8d8664c4cc57",
   "metadata": {},
   "outputs": [],
   "source": [
    "def test1(*args , a) :\n",
    "    return args , a"
   ]
  },
  {
   "cell_type": "code",
   "execution_count": 2,
   "id": "5f0dd20a-df67-44c0-8e0a-3c52bff2f0d7",
   "metadata": {},
   "outputs": [
    {
     "data": {
      "text/plain": [
       "((1, 2, 3, 4), 23)"
      ]
     },
     "execution_count": 2,
     "metadata": {},
     "output_type": "execute_result"
    }
   ],
   "source": [
    "test1(1,2,3,4 , a = 23)"
   ]
  },
  {
   "cell_type": "code",
   "execution_count": 3,
   "id": "93a4c8b7-b9bf-48be-b747-ebc929668173",
   "metadata": {},
   "outputs": [],
   "source": [
    "def test2(**kwargs):\n",
    "    return kwargs"
   ]
  },
  {
   "cell_type": "code",
   "execution_count": 4,
   "id": "2328de73-eeef-4ded-bcb8-ba643271c686",
   "metadata": {},
   "outputs": [
    {
     "data": {
      "text/plain": [
       "{'a': [1, 2, 3, 4], 'b': 'juhi', 'c': 23.45}"
      ]
     },
     "execution_count": 4,
     "metadata": {},
     "output_type": "execute_result"
    }
   ],
   "source": [
    "test2(a = [1,2,3,4] , b = \"juhi\" , c = 23.45)"
   ]
  },
  {
   "cell_type": "code",
   "execution_count": null,
   "id": "54be91e2-c6a5-4b69-9648-0eb3b487f141",
   "metadata": {},
   "outputs": [],
   "source": [
    "Q3. What is an iterator in python? Name the method used to initialise the iterator object and the method used for iteration. Use these methods to print the first five elements of the given list [2,4,6,8,10,12,14,16,18,20].\n",
    "Ans - An iterator is an object that allows you to iterate over collections of data, such as lists, tuples, dictionaries,and sets.\n",
    "      Iter()method is used to initialize the iterator object."
   ]
  },
  {
   "cell_type": "code",
   "execution_count": 1,
   "id": "a92fe890-ea6d-42f2-a7f9-de88c6f6882b",
   "metadata": {},
   "outputs": [],
   "source": [
    "my_list = [2,4,6,8,10,12,14,16,18,20]"
   ]
  },
  {
   "cell_type": "code",
   "execution_count": 7,
   "id": "70b620d5-51d1-4252-8195-1839ea16e84e",
   "metadata": {},
   "outputs": [],
   "source": [
    "iterator = iter(my_list)"
   ]
  },
  {
   "cell_type": "code",
   "execution_count": 8,
   "id": "2b4fd418-6d14-481b-9f2d-c7dcdafb6142",
   "metadata": {},
   "outputs": [
    {
     "name": "stdout",
     "output_type": "stream",
     "text": [
      "2\n",
      "4\n",
      "6\n",
      "8\n",
      "10\n"
     ]
    }
   ],
   "source": [
    "print(next(iterator)) # print 2\n",
    "print(next(iterator)) # print 4\n",
    "print(next(iterator)) # print 6\n",
    "print(next(iterator)) # print 8\n",
    "print(next(iterator)) # print 10"
   ]
  },
  {
   "cell_type": "code",
   "execution_count": null,
   "id": "aa4dba5a-4b32-4452-a87e-aaac19715d36",
   "metadata": {},
   "outputs": [],
   "source": [
    "Q4. What is a generator function in python? Why yield keyword is used? Give an example of a generator function.\n",
    "Ans - A generator function allows you to declare a function that behaves like an iterator, providing a faster and easier way to create iterators.\n",
    "      The yield keyword controls the flow of a generator function.This is similar to a return statement used for returning values in Python."
   ]
  },
  {
   "cell_type": "code",
   "execution_count": 12,
   "id": "9202053b-d036-4032-b370-b8ea9bcf86fa",
   "metadata": {},
   "outputs": [],
   "source": [
    "def test_fib(n):\n",
    "    a,b = 0,1\n",
    "    for i in range(n):\n",
    "        yield a\n",
    "        a,b = b , a+b"
   ]
  },
  {
   "cell_type": "code",
   "execution_count": 14,
   "id": "18539b35-169e-4fd6-990d-b762ba938ea9",
   "metadata": {},
   "outputs": [
    {
     "name": "stdout",
     "output_type": "stream",
     "text": [
      "0\n",
      "1\n",
      "1\n",
      "2\n",
      "3\n",
      "5\n",
      "8\n",
      "13\n",
      "21\n",
      "34\n"
     ]
    }
   ],
   "source": [
    "for i in test_fib(10):\n",
    "    print(i)"
   ]
  },
  {
   "cell_type": "code",
   "execution_count": null,
   "id": "89b33beb-5b6e-4154-9867-5d188c0acd37",
   "metadata": {},
   "outputs": [],
   "source": [
    "Q5. Create a generator function for prime numbers less than 1000. Use the next() method to print the first 20 prime numbers."
   ]
  },
  {
   "cell_type": "code",
   "execution_count": 4,
   "id": "90c9bc3b-213c-4a1f-98db-7ce2d6d322ca",
   "metadata": {},
   "outputs": [
    {
     "name": "stdin",
     "output_type": "stream",
     "text": [
      "enter the lower interval: 1\n",
      "enter the upper interval: 1000\n"
     ]
    },
    {
     "name": "stdout",
     "output_type": "stream",
     "text": [
      "2 3 5 7 11 13 17 19 23 29 31 37 41 43 47 53 59 61 67 71 73 79 83 89 97 101 103 107 109 113 127 131 137 139 149 151 157 163 167 173 179 181 191 193 197 199 211 223 227 229 233 239 241 251 257 263 269 271 277 281 283 293 307 311 313 317 331 337 347 349 353 359 367 373 379 383 389 397 401 409 419 421 431 433 439 443 449 457 461 463 467 479 487 491 499 503 509 521 523 541 547 557 563 569 571 577 587 593 599 601 607 613 617 619 631 641 643 647 653 659 661 673 677 683 691 701 709 719 727 733 739 743 751 757 761 769 773 787 797 809 811 821 823 827 829 839 853 857 859 863 877 881 883 887 907 911 919 929 937 941 947 953 967 971 977 983 991 997 "
     ]
    }
   ],
   "source": [
    "lower = int(input(\"enter the lower interval:\"))\n",
    "upper = int(input(\"enter the upper interval:\"))\n",
    "for num in range(lower,upper+1):\n",
    "    if num>1:\n",
    "        for i in range(2,num) :\n",
    "            if (num%i)==0:\n",
    "                 break\n",
    "        else:\n",
    "            print(num, end = ' ')"
   ]
  },
  {
   "cell_type": "code",
   "execution_count": null,
   "id": "ca1a6a87-21b0-47e2-9714-49dda4684d2f",
   "metadata": {},
   "outputs": [],
   "source": [
    "Q6. Write a python program to print the first 10 Fibonacci numbers using while loop."
   ]
  },
  {
   "cell_type": "code",
   "execution_count": 5,
   "id": "88270dca-cc37-4af3-be19-02cff9eea0db",
   "metadata": {},
   "outputs": [
    {
     "name": "stdout",
     "output_type": "stream",
     "text": [
      "0\n",
      "1\n",
      "1\n",
      "2\n",
      "3\n",
      "5\n",
      "8\n",
      "13\n",
      "21\n",
      "34\n"
     ]
    }
   ],
   "source": [
    "n = 10\n",
    "n1 = 0\n",
    "n2 = 1\n",
    "i = 0\n",
    "while i<n:\n",
    "    print(n1)\n",
    "    nth = n1+n2\n",
    "    n1 = n2\n",
    "    n2 = nth\n",
    "    i+=1"
   ]
  },
  {
   "cell_type": "code",
   "execution_count": null,
   "id": "bf24a408-69de-4b5b-9f5c-cadbaacf9da1",
   "metadata": {},
   "outputs": [],
   "source": [
    "Q7.Write a list comprehension to iterate through the given string:'pwskills'.\n",
    "Expected output:['p','w','s','k','i','l','l','s']"
   ]
  },
  {
   "cell_type": "code",
   "execution_count": 5,
   "id": "3d41676c-5862-4cbb-9f07-8a9e180b8235",
   "metadata": {},
   "outputs": [
    {
     "name": "stdout",
     "output_type": "stream",
     "text": [
      "['p', 'w', 's', 'k', 'i', 'l', 'l', 's']\n"
     ]
    }
   ],
   "source": [
    "my_string = \"pwskills\"\n",
    "my_string = [i for i in my_string ]\n",
    "print(my_string)"
   ]
  },
  {
   "cell_type": "code",
   "execution_count": null,
   "id": "431b25d5-6d6a-4fb4-9963-79ae43da03b4",
   "metadata": {},
   "outputs": [],
   "source": [
    "Q8.Write a python program to check whether a given number is Palindrome or not using a while loop."
   ]
  },
  {
   "cell_type": "code",
   "execution_count": 6,
   "id": "46cbf5ad-035e-4f1b-967f-f9d3a69a604d",
   "metadata": {},
   "outputs": [
    {
     "name": "stdin",
     "output_type": "stream",
     "text": [
      "Enter Number: 232\n"
     ]
    },
    {
     "name": "stdout",
     "output_type": "stream",
     "text": [
      "The number is a palindrome.\n"
     ]
    }
   ],
   "source": [
    "n=int(input(\"Enter Number:\"))\n",
    "temp=n\n",
    "rev=0\n",
    "while(n>0):\n",
    "    dig=n%10 #digit\n",
    "    rev=(rev*10)+dig\n",
    "    n=n//10\n",
    "if(temp==rev):\n",
    "    print(\"The number is a palindrome.\")\n",
    "\n",
    "else:\n",
    "    print(\"The number is not a polindrome.\")"
   ]
  },
  {
   "cell_type": "code",
   "execution_count": null,
   "id": "07234662-b9da-4121-9b41-2487b95efdd9",
   "metadata": {},
   "outputs": [],
   "source": [
    "Q9.Write a code to print odd numbers from 1 to 100 using list comprehension."
   ]
  },
  {
   "cell_type": "code",
   "execution_count": 7,
   "id": "383b39d3-221b-44c8-80ef-875f5aef4676",
   "metadata": {},
   "outputs": [
    {
     "name": "stdout",
     "output_type": "stream",
     "text": [
      "[1, 3, 5, 7, 9, 11, 13, 15, 17, 19, 21, 23, 25, 27, 29, 31, 33, 35, 37, 39, 41, 43, 45, 47, 49, 51, 53, 55, 57, 59, 61, 63, 65, 67, 69, 71, 73, 75, 77, 79, 81, 83, 85, 87, 89, 91, 93, 95, 97, 99]\n"
     ]
    }
   ],
   "source": [
    "s = [x for x in range(1,100) if x%2==1]\n",
    "\n",
    "print(s)"
   ]
  }
 ],
 "metadata": {
  "kernelspec": {
   "display_name": "Python 3 (ipykernel)",
   "language": "python",
   "name": "python3"
  },
  "language_info": {
   "codemirror_mode": {
    "name": "ipython",
    "version": 3
   },
   "file_extension": ".py",
   "mimetype": "text/x-python",
   "name": "python",
   "nbconvert_exporter": "python",
   "pygments_lexer": "ipython3",
   "version": "3.10.8"
  }
 },
 "nbformat": 4,
 "nbformat_minor": 5
}

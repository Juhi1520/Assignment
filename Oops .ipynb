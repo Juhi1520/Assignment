{
 "cells": [
  {
   "cell_type": "code",
   "execution_count": null,
   "id": "43aad092-ab0b-49b6-9ff6-ae7e2ae3317a",
   "metadata": {},
   "outputs": [],
   "source": [
    "Q1.Explain class and object with respect to object-oriented Programming. Give a suitable example."
   ]
  },
  {
   "cell_type": "code",
   "execution_count": 2,
   "id": "a0cdb221-b4d3-4bdc-9854-913a1b8f20a5",
   "metadata": {},
   "outputs": [],
   "source": [
    "class pwskills :\n",
    "    \n",
    "    def __init__(self,phone_number,email_id,student_id ):\n",
    "        self.phone_number = phone_number\n",
    "        self.email_id = email_id\n",
    "        self.student_id = student_id\n",
    "        \n",
    "    def return_student_details(self) :\n",
    "        return self.student_id ,self.phone_number ,self.email_id"
   ]
  },
  {
   "cell_type": "code",
   "execution_count": 4,
   "id": "cb8ce6b5-828e-4d4b-bade-5fc3ec79c4a4",
   "metadata": {},
   "outputs": [],
   "source": [
    "rahul = pwskills(1234523478, \"rahul@gmail.com\" , 101)"
   ]
  },
  {
   "cell_type": "code",
   "execution_count": 5,
   "id": "43cb2776-4eb3-45a2-891e-da726932e113",
   "metadata": {},
   "outputs": [
    {
     "data": {
      "text/plain": [
       "(101, 1234523478, 'rahul@gmail.com')"
      ]
     },
     "execution_count": 5,
     "metadata": {},
     "output_type": "execute_result"
    }
   ],
   "source": [
    "rahul.return_student_details()"
   ]
  },
  {
   "cell_type": "code",
   "execution_count": null,
   "id": "ae08a241-9696-40a5-b3b9-2f5301e46b3c",
   "metadata": {},
   "outputs": [],
   "source": [
    "Q2.Name the four pillars of oops."
   ]
  },
  {
   "cell_type": "code",
   "execution_count": null,
   "id": "300144b4-a89c-4e38-a48b-86cdc647ae5f",
   "metadata": {},
   "outputs": [],
   "source": [
    "Ans- Pillars of oops-\n",
    "  1- Data Abstration\n",
    "  2- Inheritance\n",
    "  3- Polymorphism\n",
    "  4- Encapsulation"
   ]
  },
  {
   "cell_type": "code",
   "execution_count": null,
   "id": "fedcce66-420a-4ac1-b976-17d5cf4db01b",
   "metadata": {},
   "outputs": [],
   "source": [
    "Q3.Explain Why the __init__()function is used. Give a suitable example. "
   ]
  },
  {
   "cell_type": "code",
   "execution_count": null,
   "id": "4c777b21-d3f2-4a01-a5dd-bea1fb4cbbcd",
   "metadata": {},
   "outputs": [],
   "source": [
    "Ans- __init__()is a special python method that runs when an object of a class is created.__init__()function is mostly used for assigning values to newly created."
   ]
  },
  {
   "cell_type": "code",
   "execution_count": 6,
   "id": "c8586f6a-0ebb-41c6-94d2-304728f1e88a",
   "metadata": {},
   "outputs": [
    {
     "name": "stdout",
     "output_type": "stream",
     "text": [
      "3 4\n",
      "5 5\n"
     ]
    }
   ],
   "source": [
    "class test:\n",
    "    def __init__(self,a,b):\n",
    "        self.a=a\n",
    "        self.b=b\n",
    "t1=test(3,4)\n",
    "t2=test(5,6)\n",
    "print(t1.a,t1.b)\n",
    "print(t2.a,t2.a)\n",
    "        "
   ]
  },
  {
   "cell_type": "code",
   "execution_count": null,
   "id": "16aa0086-1ba9-4ab6-95e4-74f893e78123",
   "metadata": {},
   "outputs": [],
   "source": [
    "Q4.Why self is used in Oops?"
   ]
  },
  {
   "cell_type": "code",
   "execution_count": null,
   "id": "56f0ef53-b788-4b96-8fc9-1b5bd6aabc9b",
   "metadata": {},
   "outputs": [],
   "source": [
    "Ans- self represents the instance of the class. By using the \"self\" we can access the attributes and methods of the class."
   ]
  },
  {
   "cell_type": "code",
   "execution_count": 2,
   "id": "5257dba6-d519-4c0a-a099-19d44c96478c",
   "metadata": {},
   "outputs": [
    {
     "name": "stdout",
     "output_type": "stream",
     "text": [
      "15\n"
     ]
    }
   ],
   "source": [
    "class mynumber:\n",
    "    def __init__(self, value) :\n",
    "        self.value = value\n",
    "        \n",
    "    def print_value(self) :\n",
    "        print(self.value)\n",
    "        \n",
    "obj1 = mynumber(15)\n",
    "obj1.print_value()"
   ]
  },
  {
   "cell_type": "code",
   "execution_count": null,
   "id": "13be5911-38c3-4264-a501-700036cec77f",
   "metadata": {},
   "outputs": [],
   "source": [
    "Q5.What is inheritance? Give an example for each type of inheritance."
   ]
  },
  {
   "cell_type": "code",
   "execution_count": null,
   "id": "14026439-bd5f-4a25-89ea-ae18685a872a",
   "metadata": {},
   "outputs": [],
   "source": [
    "Ans- Inheritance allows us to define a class that inherits all the methods and properties from another class.\n",
    "     Parent Class is the class being inherited from, also called base class.\n",
    "     Child Class is the class that inherits from another class, also called derived class.\n",
    "        "
   ]
  },
  {
   "cell_type": "code",
   "execution_count": 8,
   "id": "80233698-190e-40b4-96ac-3fbe31052d7a",
   "metadata": {},
   "outputs": [
    {
     "name": "stdout",
     "output_type": "stream",
     "text": [
      "Rahul 23\n",
      "Mayank 23\n"
     ]
    }
   ],
   "source": [
    "#parent class\n",
    "class Person() :\n",
    "    def __init__(self, name, age):\n",
    "        self.name = name\n",
    "        self.age = age\n",
    "        \n",
    "    def display(self) :\n",
    "        print(self.name, self.age)\n",
    "        \n",
    "#child class\n",
    "class Student(Person) :\n",
    "    def __init__(self, name, age) :\n",
    "        self. sName = name\n",
    "        self. sAge = age\n",
    "        # inheriting the properties of parent class\n",
    "        super() .__init__(\"Rahul\", age)\n",
    "        \n",
    "    def displayInfo(self):\n",
    "        print(self.sName, self.sAge)\n",
    "        \n",
    "obj = Student (\"Mayank\", 23)\n",
    "obj.display()\n",
    "obj.displayInfo()"
   ]
  },
  {
   "cell_type": "code",
   "execution_count": null,
   "id": "0265ced8-9324-4024-9ad2-ac0a7f305f94",
   "metadata": {},
   "outputs": [],
   "source": []
  },
  {
   "cell_type": "code",
   "execution_count": null,
   "id": "8255ef2c-129c-4a89-89b3-90e028b50b78",
   "metadata": {},
   "outputs": [],
   "source": []
  }
 ],
 "metadata": {
  "kernelspec": {
   "display_name": "Python 3 (ipykernel)",
   "language": "python",
   "name": "python3"
  },
  "language_info": {
   "codemirror_mode": {
    "name": "ipython",
    "version": 3
   },
   "file_extension": ".py",
   "mimetype": "text/x-python",
   "name": "python",
   "nbconvert_exporter": "python",
   "pygments_lexer": "ipython3",
   "version": "3.10.8"
  }
 },
 "nbformat": 4,
 "nbformat_minor": 5
}

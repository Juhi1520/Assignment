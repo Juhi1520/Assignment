{
 "cells": [
  {
   "cell_type": "code",
   "execution_count": null,
   "id": "2e7f8e86-4768-4cd8-a2af-9a1969c2f7ee",
   "metadata": {},
   "outputs": [],
   "source": [
    "Q1.Who developed python Programming Language?\n",
    "Ans- Guido Van Rossum was developed python programming language."
   ]
  },
  {
   "cell_type": "code",
   "execution_count": null,
   "id": "347f812d-01ea-4fc6-9b3f-70193d509067",
   "metadata": {},
   "outputs": [],
   "source": [
    "Q2. Which type of Programming does Python support?\n",
    "Ans- Python is an interpreted programming language, which support object-oriented, Structured, and functional programming."
   ]
  },
  {
   "cell_type": "code",
   "execution_count": null,
   "id": "14c041d1-7911-448b-a58d-f37f7c8a9e9f",
   "metadata": {},
   "outputs": [],
   "source": [
    "Q3. Is Python case sensitive when dealing with identifiers?\n",
    "Ans- Yes,Python is case sensitive language, i.e.,it treats uppercase and lowercase characters differently. This applies to identifiers too."
   ]
  },
  {
   "cell_type": "code",
   "execution_count": null,
   "id": "75ec2b7e-af85-4b71-bdd9-e896c3020a08",
   "metadata": {},
   "outputs": [],
   "source": [
    "Q4. What is the correct extension of the Python file?\n",
    "Ans- The correct extensions for Python file are- .py, .pyi, .pyc, .pyo, .pyw, and .pyz."
   ]
  },
  {
   "cell_type": "code",
   "execution_count": null,
   "id": "12f9c2e2-90d2-4ee2-8fc1-6c41feed2056",
   "metadata": {},
   "outputs": [],
   "source": [
    "Q5. Is Python code compiled or interpreted?\n",
    "Ans- Python is both compiled as well as an interpreted language. This means when we run a python code, it is first compiled and then interpreted line by line. The compilation part is \n",
    "     mostly hidden from the user. While running the code, Python generates a byte code internally, this byte code is then converted using a python virtual machine(p.v.m)to generate the \n",
    "     output."
   ]
  },
  {
   "cell_type": "code",
   "execution_count": null,
   "id": "76340900-c7ee-46c6-81d5-d136c2c6e95a",
   "metadata": {},
   "outputs": [],
   "source": [
    "Q6. Name a few blocks of codes used to define in Python language?\n",
    "Ans- Indentation is used to define a block of code in Python. Braces{} are used to define a block of code in most programming languages, like C,C++, and Java."
   ]
  },
  {
   "cell_type": "code",
   "execution_count": null,
   "id": "452ed4d8-fea1-49c4-8b4b-1e9336d5246e",
   "metadata": {},
   "outputs": [],
   "source": [
    "Q7. State a charecter used to give single-line comments in Python?\n",
    "Ans- We can use the # character to write single-line comments in Python."
   ]
  },
  {
   "cell_type": "code",
   "execution_count": null,
   "id": "8fe1a7d1-61db-4934-abe1-992b16e2d50a",
   "metadata": {},
   "outputs": [],
   "source": [
    "Q8. Mention function which can help us to find the version of Python that we are currently working on?\n",
    "Ans- The function sys.version can help us to find the version of Python that we are currently working on."
   ]
  },
  {
   "cell_type": "code",
   "execution_count": null,
   "id": "4ae1fe01-726d-4f94-9a86-2ecf016271e9",
   "metadata": {},
   "outputs": [],
   "source": [
    "Q9. Python supports the creation of anonymous functions at runtime, using a construct called -\n",
    "Ans- Lambda"
   ]
  },
  {
   "cell_type": "code",
   "execution_count": null,
   "id": "445e3e97-baf0-4570-8e0f-2cc93c4aa62d",
   "metadata": {},
   "outputs": [],
   "source": [
    "Q10. What does pip stand for python?\n",
    "Ans- pip is a package manager for python. Which is also called Preferred Installer Program."
   ]
  },
  {
   "cell_type": "code",
   "execution_count": null,
   "id": "4f822dcf-7965-448c-9893-465e78dc4c7a",
   "metadata": {},
   "outputs": [],
   "source": [
    "Q11. Mention a few built-in functions in python?\n",
    "Ans- abs() - Return the absolute value of a number\n",
    "     all() - Return True if all items in an iterable object are true\n",
    "     any() - Return True if any item in an iterable object is true\n",
    "     bool()- Return the boolean value of the specified object\n",
    "     dict()- Return a dictionary(Array)\n",
    "     float()-Returns a floating point number\n",
    "     iter()- Return an iterator object\n",
    "     len() - Return the length of an object\n",
    "     max() - Return the largest item in an iterable\n",
    "     min() - Return the smallest item in an iterable"
   ]
  },
  {
   "cell_type": "code",
   "execution_count": null,
   "id": "02cdfdf6-2f9a-4195-bc4b-d2e8845a738e",
   "metadata": {},
   "outputs": [],
   "source": [
    "Q12. What is the maximum possible length of an identifier in python?\n",
    "Ans- An identifier can have a maximum length of 79 characters in python. "
   ]
  },
  {
   "cell_type": "code",
   "execution_count": null,
   "id": "2c32f6b1-90bd-4eee-b717-a8417318aba0",
   "metadata": {},
   "outputs": [],
   "source": [
    "Q13. What are the benefits of using Python?\n",
    "Ans-  High level programming languages like python are easier to understand, automate tasks such as memory management and other low-level computer."
   ]
  },
  {
   "cell_type": "code",
   "execution_count": null,
   "id": "79eb2df2-7530-4349-a22c-05b984183e0c",
   "metadata": {},
   "outputs": [],
   "source": [
    "Q14. How is memory managed in Python?\n",
    "Ans- In Python memory allocation and deallocation method is automatic as the Python developers created a garbage collector for Python so that the user does not have to do manual \n",
    "     garbage collection."
   ]
  },
  {
   "cell_type": "code",
   "execution_count": null,
   "id": "abb23def-601e-4d3b-a33c-095888ee10c9",
   "metadata": {},
   "outputs": [],
   "source": [
    "Q15. How to install Python on windows and set path variables?\n",
    "Ans- Steps to install python on window and set path variables-\n",
    "  1. First, We must find the directory where we installed Python. A typical installation would have the following path,\n",
    "     c:\\Users\\MyUserName\\AppData\\Local\\Program\\Python\\Python310\n",
    "  2. Now, we will need to add this to the PATH variable, we right click on \"This PC\" and go to \"Properties\".\n",
    "  3. Then, We click on the \"Advanced system setting\" in the menu on the left.going\n",
    "  4. In the bottom right, We can see a button labeled \"Environment Variables\". We will click on it to open another window to edit these variables.\n",
    "  5. Now, We select the \"Path Variable\" in the \"System Variable\" section and click \"Edit\". The next screen will show all the directories currently part of the PATH variable.\n",
    "  6. Another window opens up where we can see all the paths for the currently configured system variables. To add a new path for our Python program, we will click on the \"New\" button\n",
    "     on the right side and paste the path in step 1\n",
    "  7. We have successfully added the path for our Python program to our system's environment variables. The best practice is to restart the system afterward for the change to occur.\n",
    "  8. Now, We can verify if the PATH variable was configured correctly by opening up the terminal and entering the command python --version.\n",
    "     After all the following steps are completed, When we run the command on the command prompt, We should get a similar output to the one shown below\n",
    "        c:\\>python --version\n",
    "        \n",
    "        python 3.10"
   ]
  },
  {
   "cell_type": "code",
   "execution_count": null,
   "id": "c2434d53-03ca-44b3-aed6-da35b1a97a5d",
   "metadata": {},
   "outputs": [],
   "source": [
    "Q16. Is indentation required in python?\n",
    "Ans- Python indentation is a way of telling a Python interpreter that the group of statements belongs to a particular block of code. A block is a combination of all these statements.\n",
    "     Block can be regarded as the grouping of statements for a specific purpose. Most programming languages like C,C++,and Java use braces{} to define a block of code. Python uses \n",
    "     indentation to highlight the blocks of code."
   ]
  }
 ],
 "metadata": {
  "kernelspec": {
   "display_name": "Python 3 (ipykernel)",
   "language": "python",
   "name": "python3"
  },
  "language_info": {
   "codemirror_mode": {
    "name": "ipython",
    "version": 3
   },
   "file_extension": ".py",
   "mimetype": "text/x-python",
   "name": "python",
   "nbconvert_exporter": "python",
   "pygments_lexer": "ipython3",
   "version": "3.10.8"
  }
 },
 "nbformat": 4,
 "nbformat_minor": 5
}

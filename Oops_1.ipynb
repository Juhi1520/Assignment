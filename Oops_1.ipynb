{
 "cells": [
  {
   "cell_type": "code",
   "execution_count": null,
   "id": "c055adf1-e92f-4e39-b6d1-b5fe27895b09",
   "metadata": {},
   "outputs": [],
   "source": [
    "Q1.What is Abstraction in Oops? Explain with an example.\n",
    "Ans- Abstraction in Python is defined as a process of handling complexity by hiding unnecessary information from the user. This is one of the core concepts of object-oriented programming\n",
    "     (OOP) languages. That enable the user to implement even more complex logic on the of the provided abstraction whithout understanding or even thinking about all the hidden background/\n",
    "     backend complexity. "
   ]
  },
  {
   "cell_type": "code",
   "execution_count": 3,
   "id": "a2e70ab9-8ffb-4659-8328-8837f0d43cb0",
   "metadata": {},
   "outputs": [
    {
     "name": "stdout",
     "output_type": "stream",
     "text": [
      "Triangle has 3 sides\n",
      "I have 4 sides\n",
      "Pentagon has 5 sides\n",
      "Hexagon has 6 sides\n"
     ]
    }
   ],
   "source": [
    "# python program to define\n",
    "# abstract class\n",
    "\n",
    "from abc import ABC\n",
    "\n",
    "class Polygon(ABC):\n",
    "    \n",
    "    # abstract method\n",
    "    def sides(self):\n",
    "        pass\n",
    "    \n",
    "class Triangle(Polygon):\n",
    "    \n",
    "    \n",
    "    def sides(self):\n",
    "        print(\"Triangle has 3 sides\")\n",
    "        \n",
    "class Pentagon(Polygon):\n",
    "    \n",
    "    \n",
    "    def sides(self):\n",
    "        print(\"Pentagon has 5 sides\")\n",
    "        \n",
    "class Hexagon(Polygon):\n",
    "    \n",
    "    \n",
    "    def sides(self):\n",
    "        print(\"Hexagon has 6 sides\")\n",
    "        \n",
    "class square(Polygon):\n",
    "    \n",
    "    \n",
    "    def sides(self):\n",
    "        print(\"I have 4 sides\")\n",
    "        \n",
    "# Driver code\n",
    "t = Triangle()\n",
    "t.sides()\n",
    "\n",
    "s = square()\n",
    "s.sides()\n",
    "\n",
    "p = Pentagon()\n",
    "p.sides()\n",
    "\n",
    "k = Hexagon()\n",
    "k.sides()"
   ]
  },
  {
   "cell_type": "code",
   "execution_count": null,
   "id": "fea34cb2-43e5-4cf1-bdf9-e424904afd0b",
   "metadata": {},
   "outputs": [],
   "source": [
    "Q2.Differentiate between Abstraction and Encapsulation.Explain with an example.\n",
    "Ans- Abstraction is a process of hiding the implementation details of a system from the user, and only the functional details will be available to the user end. On the other hand, \n",
    "     Encapsulation is a method of wrapping up the data and cede acting on the data into a single unit."
   ]
  },
  {
   "cell_type": "code",
   "execution_count": null,
   "id": "9a513575-8675-4337-8751-58a4351f62b7",
   "metadata": {},
   "outputs": [],
   "source": [
    "Q3. What is abc module in Python?Why is it used?\n",
    "Ans- Python has a module called abc (abstract base class) that offers the necessary tools for crafting an abstract base class. First and Foremost, you\n",
    "     should understand the ABCMeta metaclass provided by the abstract base class. The role is every abstract class must use ABCMeta metaclass.\n",
    "     ABCMeta metaclass provides a method called register method that can be invoked by its instance. By using this register method, any abstract base \n",
    "     class can become an ancestor of any arbitrary concrete class. Let's understand this process by considering an example of an abstract base class \n",
    "     that registers itself as an ancestor of dict."
   ]
  },
  {
   "cell_type": "code",
   "execution_count": 1,
   "id": "0870822d-8e6e-420a-84ff-31c07870329e",
   "metadata": {},
   "outputs": [
    {
     "name": "stdout",
     "output_type": "stream",
     "text": [
      "<class 'dict'>\n"
     ]
    }
   ],
   "source": [
    "import abc\n",
    "\n",
    "class AbstractClass(metaclass=abc.ABCMeta):\n",
    "    def abstractfunc(self) :\n",
    "        return None\n",
    "    \n",
    "    \n",
    "print (AbstractClass.register(dict))"
   ]
  },
  {
   "cell_type": "code",
   "execution_count": null,
   "id": "b480a56a-0e9a-429e-9ffd-25ac38ea06f3",
   "metadata": {},
   "outputs": [],
   "source": [
    "Here, dict identifies itself as a subclass of AbstractClass. Let's do a check"
   ]
  },
  {
   "cell_type": "code",
   "execution_count": 2,
   "id": "5af480b8-f61c-4cef-93ef-0511691f8164",
   "metadata": {},
   "outputs": [
    {
     "name": "stdout",
     "output_type": "stream",
     "text": [
      "True\n"
     ]
    }
   ],
   "source": [
    "import abc\n",
    "\n",
    "class AbstractClass(metaclass=abc.ABCMeta) :\n",
    "    def abstractfunc(self) :\n",
    "        return None\n",
    "    \n",
    "AbstractClass.register(dict) \n",
    "print(issubclass(dict, AbstractClass))"
   ]
  },
  {
   "cell_type": "code",
   "execution_count": null,
   "id": "1c58e6ec-2c87-420e-8caf-b25f0c5b8055",
   "metadata": {},
   "outputs": [],
   "source": [
    "Q4.How can we achieve data abstraction?\n",
    "   Abstraction example"
   ]
  },
  {
   "cell_type": "code",
   "execution_count": 2,
   "id": "f1ef9176-3730-4645-b05f-77478f973417",
   "metadata": {},
   "outputs": [
    {
     "name": "stdout",
     "output_type": "stream",
     "text": [
      "Rectangle area: 50\n"
     ]
    }
   ],
   "source": [
    "from abc import ABC, abstractmethod\n",
    "\n",
    "class Shape(ABC):\n",
    "    @abstractmethod\n",
    "    def area(self):\n",
    "        pass\n",
    "    \n",
    "class Rectangle(Shape):\n",
    "    def __init__(self, length, breadth):\n",
    "        self. length = length\n",
    "        self. breadth = breadth\n",
    "    def area(self):\n",
    "        return self. length * self. breadth\n",
    "rect = Rectangle(5, 10)\n",
    "print('Rectangle area:', rect.area())"
   ]
  },
  {
   "cell_type": "code",
   "execution_count": null,
   "id": "a9694d0f-e9db-43ed-a162-502652a74f03",
   "metadata": {},
   "outputs": [],
   "source": [
    "Q5. Can We create an instance of an abstract class? Explain your answer.\n",
    " -  No.\n",
    "    Abstract class purpose is to act as base class via inheritance. There object creation is not possible."
   ]
  },
  {
   "cell_type": "code",
   "execution_count": null,
   "id": "13d8f1dd-7e5b-4e97-b2ac-28319480d82a",
   "metadata": {},
   "outputs": [],
   "source": [
    "public abstract class Employee\n",
    "{ \n",
    "    public abstract void Project();\n",
    "    \n",
    "    public void Role()\n",
    "    {\n",
    "        Console.WriteLine(\"Engineer\");\n",
    "    }\n",
    "}\n",
    "\n",
    "static void Main(string[] arg)\n",
    "   Employee employee = new Employee();"
   ]
  }
 ],
 "metadata": {
  "kernelspec": {
   "display_name": "Python 3 (ipykernel)",
   "language": "python",
   "name": "python3"
  },
  "language_info": {
   "codemirror_mode": {
    "name": "ipython",
    "version": 3
   },
   "file_extension": ".py",
   "mimetype": "text/x-python",
   "name": "python",
   "nbconvert_exporter": "python",
   "pygments_lexer": "ipython3",
   "version": "3.10.8"
  }
 },
 "nbformat": 4,
 "nbformat_minor": 5
}

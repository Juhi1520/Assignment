{
 "cells": [
  {
   "cell_type": "code",
   "execution_count": null,
   "id": "501a8feb-a707-407d-a243-f583560e13de",
   "metadata": {},
   "outputs": [],
   "source": [
    "Q1.What is an Exception in python? Write the difference between Exception and syntax errors.\n",
    "Ans- An Exception is an error that happens during the execution of a program. Whenever there is an error, Python generates an exception that could be handled.\n",
    "     It basically prevents the program from getting crashed.\n",
    "     Difference between Exception and syntax:-\n",
    "     Syntax errors are usually caused by mistakes in the source code, such as typos, omissions, or incorrect use of syntax.\n",
    "     Exceptions are not syntax error, but they can still prevent the program from running if they are not handled properly."
   ]
  },
  {
   "cell_type": "code",
   "execution_count": null,
   "id": "2c3a4b62-f21e-4e99-a41c-643a03e5bb24",
   "metadata": {},
   "outputs": [],
   "source": [
    "Q2. What happens when an exception is not handled? Exoplain with an example.\n",
    "Ans- Exception are raised when the program is syntactically correct but the code result in a error. This error does not stop the execution of the program,\n",
    "     however, it changes the normal flow of the program."
   ]
  },
  {
   "cell_type": "code",
   "execution_count": 4,
   "id": "d5a5f1d2-8069-4f82-b799-c7a3e7f346c3",
   "metadata": {},
   "outputs": [
    {
     "ename": "ZeroDivisionError",
     "evalue": "division by zero",
     "output_type": "error",
     "traceback": [
      "\u001b[0;31m---------------------------------------------------------------------------\u001b[0m",
      "\u001b[0;31mZeroDivisionError\u001b[0m                         Traceback (most recent call last)",
      "Cell \u001b[0;32mIn[4], line 2\u001b[0m\n\u001b[1;32m      1\u001b[0m marks \u001b[38;5;241m=\u001b[39m \u001b[38;5;241m10000\u001b[39m\n\u001b[0;32m----> 2\u001b[0m a \u001b[38;5;241m=\u001b[39m \u001b[43mmarks\u001b[49m\u001b[43m \u001b[49m\u001b[38;5;241;43m/\u001b[39;49m\u001b[43m \u001b[49m\u001b[38;5;241;43m0\u001b[39;49m\n\u001b[1;32m      3\u001b[0m \u001b[38;5;28mprint\u001b[39m(a)\n",
      "\u001b[0;31mZeroDivisionError\u001b[0m: division by zero"
     ]
    }
   ],
   "source": [
    "marks = 10000\n",
    "a = marks / 0\n",
    "print(a)"
   ]
  },
  {
   "cell_type": "code",
   "execution_count": null,
   "id": "a8685cb3-996c-466c-875c-9fdc093a3b7b",
   "metadata": {},
   "outputs": [],
   "source": [
    "Q3. Which Python statements are used to catch and handle exceptions? Explain with an example.\n",
    "Ans- Try and except statements are used to catch and handle exceptions in python. \n",
    "     Example- Here we are trying to access the array element whose index is out of bound and handle the corresponding exception."
   ]
  },
  {
   "cell_type": "code",
   "execution_count": 5,
   "id": "8205068c-90a6-46fc-9797-1914eea8b569",
   "metadata": {},
   "outputs": [
    {
     "name": "stdout",
     "output_type": "stream",
     "text": [
      "second element = 2\n",
      "An error occurred\n"
     ]
    }
   ],
   "source": [
    "a = [1, 2, 3]\n",
    "try:\n",
    "    print (\"second element = %d\" %(a[1]))\n",
    "    print (\"Fourth element = %d\" %(a[3]))\n",
    "except:\n",
    "    print (\"An error occurred\")"
   ]
  },
  {
   "cell_type": "code",
   "execution_count": null,
   "id": "d3dd8b33-aaed-4b30-9ce7-90a76f1ab62c",
   "metadata": {},
   "outputs": [],
   "source": [
    "Q4. Explain with an example:\n",
    "    a. try and else\n",
    "    b. finally\n",
    "    c. raise\n",
    "    \n",
    "a. Try with Else\n",
    "    In python, we can also use the else clause on the try-except block which must be present after all the except clauses. The code enters the else block only if \n",
    "    the try clause does not raise an exception.\n",
    "    Example- The code defines a function AbyB(a, b) that calculates c as ((a+b)/(a-b)) and handles a potential ZeroDivisionError. It prints the result if there's\n",
    "    no division by zero error. Calling AbyB(2.0, 3.0) calculates and prints -5., while calling AbyB(3.0, 3.0) attempts to divide by zero, resulting in a \n",
    "    ZeroDivisionError, which is caught and \"a/b result in 0\" is printed."
   ]
  },
  {
   "cell_type": "code",
   "execution_count": 6,
   "id": "e1f32297-8b6b-47b7-95fe-684f4be0187a",
   "metadata": {},
   "outputs": [
    {
     "name": "stdout",
     "output_type": "stream",
     "text": [
      "-5.0\n"
     ]
    }
   ],
   "source": [
    "def AbyB(a , b):\n",
    "    try:\n",
    "        c = ((a+b) / (a-b))\n",
    "    except ZeroDivisionError:\n",
    "        print\n",
    "    else:\n",
    "        print (c)\n",
    "AbyB(2.0, 3.0)\n",
    "AbyB(3.0, 3.0)"
   ]
  },
  {
   "cell_type": "code",
   "execution_count": null,
   "id": "ae6af971-2ecd-4840-820b-8f257b36a52c",
   "metadata": {},
   "outputs": [],
   "source": [
    "b. Finally \n",
    "   Python provides a keyword finally, which is always executed  after the try and except blocks. The final block always executed after the normal termination of \n",
    "   the try block or after try block terminates due to some exception.\n",
    "   Example-"
   ]
  },
  {
   "cell_type": "code",
   "execution_count": 8,
   "id": "353854bb-893d-4405-a04f-796622bfc376",
   "metadata": {},
   "outputs": [
    {
     "name": "stdout",
     "output_type": "stream",
     "text": [
      "can't divide by zero\n",
      "This is always executed\n"
     ]
    }
   ],
   "source": [
    "try:\n",
    "    k = 5//0\n",
    "    print(k)\n",
    "    \n",
    "except ZeroDivisionError:\n",
    "    print(\"can't divide by zero\")\n",
    "    \n",
    "finally:\n",
    "    print('This is always executed')"
   ]
  },
  {
   "cell_type": "code",
   "execution_count": null,
   "id": "a876ad2a-df7a-4126-be81-79592610e4f6",
   "metadata": {},
   "outputs": [],
   "source": [
    "c. Raise\n",
    "   This code intentionally raises a NameError with the message \"Hi there\" using the raise statement within a try block. Then, it catches the NameError exception\n",
    "   print \"An exception,\" and re-raises the same exception using raise. This demonstrates how exceptions can be raised and handled in python.\n",
    "   Example-"
   ]
  },
  {
   "cell_type": "code",
   "execution_count": 9,
   "id": "0eb32eba-743b-476e-a2a2-e57b5ca566bb",
   "metadata": {},
   "outputs": [
    {
     "name": "stdout",
     "output_type": "stream",
     "text": [
      "An exception\n"
     ]
    },
    {
     "ename": "NameError",
     "evalue": "Hi there",
     "output_type": "error",
     "traceback": [
      "\u001b[0;31m---------------------------------------------------------------------------\u001b[0m",
      "\u001b[0;31mNameError\u001b[0m                                 Traceback (most recent call last)",
      "Cell \u001b[0;32mIn[9], line 2\u001b[0m\n\u001b[1;32m      1\u001b[0m \u001b[38;5;28;01mtry\u001b[39;00m:\n\u001b[0;32m----> 2\u001b[0m     \u001b[38;5;28;01mraise\u001b[39;00m \u001b[38;5;167;01mNameError\u001b[39;00m(\u001b[38;5;124m\"\u001b[39m\u001b[38;5;124mHi there\u001b[39m\u001b[38;5;124m\"\u001b[39m)\n\u001b[1;32m      3\u001b[0m \u001b[38;5;28;01mexcept\u001b[39;00m \u001b[38;5;167;01mNameError\u001b[39;00m:\n\u001b[1;32m      4\u001b[0m     \u001b[38;5;28mprint\u001b[39m (\u001b[38;5;124m\"\u001b[39m\u001b[38;5;124mAn exception\u001b[39m\u001b[38;5;124m\"\u001b[39m)\n",
      "\u001b[0;31mNameError\u001b[0m: Hi there"
     ]
    }
   ],
   "source": [
    "try:\n",
    "    raise NameError(\"Hi there\")\n",
    "except NameError:\n",
    "    print (\"An exception\")\n",
    "    raise"
   ]
  },
  {
   "cell_type": "code",
   "execution_count": null,
   "id": "272ea5c5-b02d-41ec-9581-1c124967989a",
   "metadata": {},
   "outputs": [],
   "source": [
    "Q5. What are custom Exception in python? Why do we need Custom Exceptions? Explain with an example.\n",
    "Ans-In python, we can define custom exceptions by creating a new class that is derived from the built-in exception class.\n",
    "    Here's the syntax to define custom exceptions,\n",
    "    \n",
    "    class CustomError(Exception):\n",
    "        ...\n",
    "        pass\n",
    "    try:\n",
    "        ...\n",
    "    except CustomError:\n",
    "        ...\n",
    "        \n",
    "        \n",
    "    Here, CustomError is a user- defined error which inherits from the Exception class."
   ]
  },
  {
   "cell_type": "code",
   "execution_count": null,
   "id": "d736c5dc-d9d0-4dc0-b893-6502c8fe7061",
   "metadata": {},
   "outputs": [],
   "source": [
    "Q6. Create a custom exception class. Use this class to handle an exception.\n",
    "Ans-"
   ]
  },
  {
   "cell_type": "code",
   "execution_count": 10,
   "id": "eae0d1ac-b1f5-4d23-990c-88541f8a8d04",
   "metadata": {},
   "outputs": [
    {
     "name": "stdout",
     "output_type": "stream",
     "text": [
      "A New Exception occurred:  6\n"
     ]
    }
   ],
   "source": [
    "# A python program to create user-defined exception\n",
    "# class MyError is derived from super class Exception\n",
    "class MyError(Exception) :\n",
    "    \n",
    "    # Constructor or Initializer\n",
    "    def __init__(self, value) :\n",
    "        self. value = value\n",
    "        \n",
    "    # __str__ is to print() the value\n",
    "    def __str__ (self) :\n",
    "        return(repr(self.value))\n",
    "    \n",
    "try:\n",
    "    raise(MyError(3*2))\n",
    "    \n",
    "# Value of Exception is stored in error\n",
    "except MyError as error:\n",
    "    print('A New Exception occurred: ', error. value)"
   ]
  },
  {
   "cell_type": "code",
   "execution_count": null,
   "id": "0bbb9c85-4da4-467c-b8f7-14064fd63044",
   "metadata": {},
   "outputs": [],
   "source": []
  }
 ],
 "metadata": {
  "kernelspec": {
   "display_name": "Python 3 (ipykernel)",
   "language": "python",
   "name": "python3"
  },
  "language_info": {
   "codemirror_mode": {
    "name": "ipython",
    "version": 3
   },
   "file_extension": ".py",
   "mimetype": "text/x-python",
   "name": "python",
   "nbconvert_exporter": "python",
   "pygments_lexer": "ipython3",
   "version": "3.10.8"
  }
 },
 "nbformat": 4,
 "nbformat_minor": 5
}

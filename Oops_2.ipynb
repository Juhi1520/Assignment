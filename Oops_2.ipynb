{
 "cells": [
  {
   "cell_type": "code",
   "execution_count": null,
   "id": "24f98c09-0cc1-491b-b762-8377456021d0",
   "metadata": {},
   "outputs": [],
   "source": [
    "Q1.Which function is used to open a file? What are the different modes of opening a file? Explain each mode of file opening.\n",
    "Ans- Python provides inbuilt functions for creating,writing, and reading files. There are two types of files that can be handled in Python, normal text file and binary files (written in\n",
    "     binary language, Os, and 1s).\n",
    "     Text files: In this type of file, each line of text is terminated with a special character called EOL (End of Line), which is the new line character ('\\n') in Python by default. In \n",
    "     the case of CSV(Comma Seperated Files, the EOF is a comma by default.\n",
    "     Binary files: In this type of file, there is no terminator for a line, and the data is stored after converting it into machine- understandable binary language, i.e., 0 and 1 formate.\n",
    "                     \n",
    "      Different modes of opening a file-\n",
    "     'r' - Open text file for reading. Raises an I\\O error if the file does not exist.\n",
    "     'r+'- Open the file for reading and writing. Raises an I\\O error if the file does not exist.\n",
    "     'w' - Open the file for writing. Truncates the file if it already exists. Creates a new file if it already exists. \n",
    "     'w+'- Open the file for reading and writing. Truncates the file if it already exists. Creates a new file if it does not exist.\n",
    "     'a' - Open the file for writing. The data will being written will be inserted at the end of the file. Creates a new file if it does not exist.\n",
    "     'a+'- Open the file for reading and writing. The data being written will be inserted at the end of the file. Creates a new file if it does not exist.\n",
    "     'rb'- Open the file for reading in binary formate. Raises an I\\O error if the file does not exist.\n",
    "     'rb+'-Open the file for reading and writing in binary formate. Raises an I\\O error if the file does not exist.\n",
    "     'wb'- Open the file for writing in binary formate. Truncates the file if it already exists. Creates a new file if it does not exist.\n",
    "     'wb+'-Open the file for reading and writing in binary formate. Truncates the file if it already exists. Creates a new file if it does not exist.\n",
    "     'ab'- Open the file for appending in binary formate. Inserts data at the end of the file. Creates a new file if it does not exist.\n",
    "     'ab+'-Open the file for reading and appending in binary formate. Inserts data at the end of the file. Creates a new file if it does not exist."
   ]
  },
  {
   "cell_type": "code",
   "execution_count": null,
   "id": "299d7aba-ea0d-4b25-b47a-ad0423815a64",
   "metadata": {},
   "outputs": [],
   "source": [
    "Q2.Why close() function is used? Why is it important to close a file?\n",
    "Ans- The close() function is used to buffer out data onto the file for newly created or modified file.\n",
    "     It is good practice to close out file once user are done with operations(read/write) on file.\n",
    "     Example:\n",
    "        f= open(\"pwskills.txt\", \"W\")\n",
    "        f.write(\"This is Python File\")\n",
    "        f.close()"
   ]
  },
  {
   "cell_type": "code",
   "execution_count": null,
   "id": "7338383d-7f95-43c1-b491-a35c52116a0e",
   "metadata": {},
   "outputs": [],
   "source": [
    "Q3.Write a python program to create a text file. Write'I want to become a data scientist' in that file. Then close the file. Open this file and read the content of the file."
   ]
  },
  {
   "cell_type": "code",
   "execution_count": 3,
   "id": "087b846e-f2dc-40d5-95d4-9a1daa1c182c",
   "metadata": {},
   "outputs": [],
   "source": [
    "text = \"\"\"I want to become a data scientist\"\"\"\n",
    "\n",
    "with open('PythonTestFile.txt','a') as file:\n",
    "    file.write(text)\n",
    "    file.close()"
   ]
  },
  {
   "cell_type": "code",
   "execution_count": null,
   "id": "cb99a5b8-348d-4415-b8fa-3e4e259930d9",
   "metadata": {},
   "outputs": [],
   "source": [
    "Q4.Explain the following with python code:read(),readline() and readlines().\n",
    "Ans- read()\n",
    "     It reads all the data of file\n",
    "     readline()\n",
    "     It will read the first line (or line by line data) of the file\n",
    "     readlines()\n",
    "     Reads all lines and convert the file into a list"
   ]
  },
  {
   "cell_type": "code",
   "execution_count": null,
   "id": "8b4b4003-878b-4f89-8635-67bdc02373a7",
   "metadata": {},
   "outputs": [],
   "source": [
    "Q5.Explain why with statement is used with open(). What is the advantage of using with statement and open() together?\n",
    "Ans- The with statement can be used while opening a file.\n",
    "     When we open a file using with statement there is no need to close the file explicitly.\n",
    "     syntax:-\n",
    "        with open ('filename',mode='r') as file_object:\n",
    "            statements\n",
    "        Ex:-\n",
    "        with open('student.txt')as f:\n",
    "               f.read()"
   ]
  },
  {
   "cell_type": "code",
   "execution_count": null,
   "id": "46b42eaa-a6f4-4c39-b116-e867e6f00393",
   "metadata": {},
   "outputs": [],
   "source": [
    "Q6.Explain the write() and writelines()functions.Give a suitable example.\n",
    "Ans- write()\n",
    "     This method is used to store/write character or string into the file represented by the file object. It returns the number of character written.\n",
    "     syntax:- file_object.write(string)\n",
    "        \n",
    "     writelines() \n",
    "     This method is used to store/write group of string(list,tuple,set) into the file represented by the file object.\n",
    "     syntex:- file_object.writelines(group of string)"
   ]
  }
 ],
 "metadata": {
  "kernelspec": {
   "display_name": "Python 3 (ipykernel)",
   "language": "python",
   "name": "python3"
  },
  "language_info": {
   "codemirror_mode": {
    "name": "ipython",
    "version": 3
   },
   "file_extension": ".py",
   "mimetype": "text/x-python",
   "name": "python",
   "nbconvert_exporter": "python",
   "pygments_lexer": "ipython3",
   "version": "3.10.8"
  }
 },
 "nbformat": 4,
 "nbformat_minor": 5
}
